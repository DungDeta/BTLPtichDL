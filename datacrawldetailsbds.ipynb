{
 "cells": [
  {
   "cell_type": "code",
   "execution_count": 1,
   "id": "initial_id",
   "metadata": {
    "ExecuteTime": {
     "end_time": "2025-06-01T19:34:48.948499Z",
     "start_time": "2025-06-01T19:34:48.485756Z"
    }
   },
   "outputs": [],
   "source": [
    "from bs4 import BeautifulSoup\n",
    "import cloudscraper\n",
    "import json\n",
    "import random\n",
    "from selenium import webdriver\n",
    "from selenium.webdriver.chrome.options import Options\n",
    "from selenium.webdriver.common.by import By\n",
    "from selenium.webdriver.support.ui import WebDriverWait\n",
    "from selenium.webdriver.support import expected_conditions as EC\n",
    "from concurrent.futures import ThreadPoolExecutor, as_completed\n",
    "import time, random"
   ]
  },
  {
   "cell_type": "code",
   "execution_count": 2,
   "id": "223dcf7b7a5b8b2f",
   "metadata": {
    "ExecuteTime": {
     "end_time": "2025-06-01T16:26:11.693908Z",
     "start_time": "2025-06-01T16:26:11.687450Z"
    }
   },
   "outputs": [],
   "source": [
    "def crawl_bds_detail_selenium(url):\n",
    "    options = Options()\n",
    "    options.add_argument('--headless')\n",
    "    options.add_argument('--disable-blink-features=AutomationControlled')\n",
    "    options.add_argument('user-agent=Mozilla/5.0 (Windows NT 10.0; Win64; x64) AppleWebKit/537.36 (KHTML, like Gecko) Chrome/122.0.0.0 Safari/537.36')\n",
    "    driver = webdriver.Chrome(options=options)\n",
    "    driver.get(url)\n",
    "    result = {'detail_link': url}\n",
    "    try:\n",
    "        WebDriverWait(driver, 10).until(\n",
    "            EC.presence_of_element_located((By.CSS_SELECTOR, 'h1.re__pr-title'))\n",
    "        )\n",
    "        h1 = driver.find_element(By.CSS_SELECTOR, 'h1.re__pr-title')\n",
    "        result['Tiêu đề'] = h1.text.strip()\n",
    "    except:\n",
    "        pass\n",
    "    try:\n",
    "        address_block = driver.find_element(By.CSS_SELECTOR, 'span.re__pr-short-description')\n",
    "        result['Địa chỉ'] = address_block.text.strip()\n",
    "    except:\n",
    "        pass\n",
    "    try:\n",
    "        specs = driver.find_elements(By.CSS_SELECTOR, 'div.re__pr-specs-content-item')\n",
    "        for spec in specs:\n",
    "            try:\n",
    "                key = spec.find_element(By.CSS_SELECTOR, 'span.re__pr-specs-content-item-title').text.strip()\n",
    "                value = spec.find_element(By.CSS_SELECTOR, 'span.re__pr-specs-content-item-value').text.strip()\n",
    "                result[key] = value\n",
    "            except:\n",
    "                continue\n",
    "    except:\n",
    "        pass\n",
    "    try:\n",
    "        phone_block = driver.find_element(By.CSS_SELECTOR, 'div.InlineShowPhoneButton_linkContact__U_lEr')\n",
    "        result['SĐT'] = phone_block.text.strip()\n",
    "    except:\n",
    "        pass\n",
    "    driver.quit()\n",
    "    return result"
   ]
  },
  {
   "cell_type": "code",
   "execution_count": null,
   "id": "aebc29e1f30fa7cd",
   "metadata": {
    "ExecuteTime": {
     "start_time": "2025-06-01T17:00:06.883835Z"
    },
    "jupyter": {
     "is_executing": true
    }
   },
   "outputs": [
    {
     "name": "stdout",
     "output_type": "stream",
     "text": [
      "Số link duy nhất: 39285\n",
      "Đã crawl: https://batdongsan.com.vn/ban-nha-rieng-pho-xom-phuong-phu-lam-1/chinh-chu-can-ban-o-to-do-cua-pr43124145\n",
      "Tiến độ: 1/39285\n",
      "Đã crawl: https://batdongsan.com.vn/ban-nha-rieng-duong-pham-van-dong-phuong-co-nhue-2/cuc-hiem-2-mat-tien-truoc-sau-bac-tu-liem-5-5-ty-pr43082790\n",
      "Tiến độ: 2/39285\n",
      "Đã crawl: https://batdongsan.com.vn/ban-nha-biet-thu-lien-ke-duong-nguyen-tuan-phuong-nhan-chinh-prj-hdi-homes-nguyen-tuan/cc-ban-gap-98m2-co-ham-201-mtien-7-5m-dong-nam-dong-tien-600tr-nam-pr42925674\n",
      "Tiến độ: 3/39285\n",
      "Đã crawl: https://batdongsan.com.vn/ban-dat-xa-dong-xuan-2/chinh-chu-ban-lo-450m2-truc-chinh-lien-trung-tam-quoc-oai-lh-pr42783172\n",
      "Tiến độ: 4/39285\n",
      "Đã crawl: https://batdongsan.com.vn/ban-dat-nen-du-an-xa-thanh-lam-3-prj-hud-me-linh-central/chu-dau-tu-mo-b-quy-biet-thu-lien-ke-ful-tien-ich-so-do-chi-5x-trieu-m2-pr41929912\n",
      "Tiến độ: 5/39285\n",
      "Đã crawl: https://batdongsan.com.vn/ban-shophouse-nha-pho-thuong-mai-duong-chu-huy-man-phuong-phuc-dong-prj-hope-residence/can-ban-2-tang-83m2-gia-5-8-ty-vnd-tai-long-bien-ha-noi-pr41243550\n",
      "Tiến độ: 6/39285\n",
      "Đã crawl: https://batdongsan.com.vn/ban-nha-rieng-phuong-kham-thien/ban-lo-goc-pho-cho-4-tang-thoang-truoc-sau-chi-4-5-ty-pr43110896\n",
      "Tiến độ: 7/39285\n",
      "Đã crawl: https://batdongsan.com.vn/ban-can-ho-chung-cu-phuong-xuan-tao-prj-n01-t6-ngoai-giao-doan/ban-3pn2wc-126m2-truc-07-bancong-bac-tai-em-duc-pr43124397\n",
      "Tiến độ: 8/39285\n",
      "Đã crawl: https://batdongsan.com.vn/ban-nha-rieng-xa-an-khanh-4/sieu-hiem-b-ch-kdt-nam-khh-o-to-do-g-ngo-thog-dt-32m2-5-tg-gia-4-35-ty-pr43123629\n",
      "Tiến độ: 9/39285\n",
      "Đã crawl: https://batdongsan.com.vn/ban-nha-biet-thu-lien-ke-phuong-la-khe-prj-khu-do-thi-van-khe/toi-can-ban-ha-dong-82-5m-mt-5m-gia-19-2-ty-lh-pr43028178\n",
      "Tiến độ: 10/39285\n",
      "Đã crawl: https://batdongsan.com.vn/ban-nha-biet-thu-lien-ke-duong-to-huu-phuong-trung-van-prj-khu-do-thi-moi-phung-khoang/chinh-chu-ban-can-lkbt-dt-147m2-mt-7m-oto-tranh-xay-5-tang-san-vuon-rong-sdcc-pr43068569\n",
      "Tiến độ: 11/39285\n",
      "Đã crawl: https://batdongsan.com.vn/ban-nha-rieng-pho-cu-loc-phuong-nhan-chinh/chdv-mat-27pkk-dt-1-8-ty-n-8t-thang-may-o-to-tranh-dung-do-2-thoang-pccc-gpxd-pr43062362\n",
      "Tiến độ: 12/39285\n",
      "Đã crawl: https://batdongsan.com.vn/ban-nha-biet-thu-lien-ke-duong-co-linh-phuong-thach-ban-1-prj-elegant-park-villa-thach-ban/-4-tang-30ty-136m2-pr42859117\n",
      "Tiến độ: 13/39285\n",
      "Đã crawl: https://batdongsan.com.vn/ban-nha-rieng-duong-ho-van-chuong-phuong-van-chuong/ban-7-tang-mat-linh-quang-xay-moi-cuc-dep-39m2-mat-tien-7m-kinh-doanh-ngay-dem-pr43070013\n",
      "Tiến độ: 14/39285\n",
      "Đã crawl: https://batdongsan.com.vn/ban-nha-rieng-duong-cau-giay-phuong-quan-hoa/sieu-thoang-mat-ngo-pl-o-to-tranh-vao-8t-thang-may-2-thoang-10m-ra-pho-kd-vp-pr43028667\n",
      "Tiến độ: 15/39285\n",
      "Đã crawl: https://batdongsan.com.vn/ban-nha-mat-pho-pho-pho-vong-phuong-dong-tam/ban-via-he-hai-ben-nhinh-10-ty-pr43123506\n",
      "Tiến độ: 16/39285\n",
      "Đã crawl: https://batdongsan.com.vn/ban-nha-rieng-duong-vu-pham-ham-phuong-trung-hoa-4/chinh-chu-can-ban-phan-lo-12-4-75m2-x-5-tang-oto-tranh-kinh-doanh-o-pr41242595\n",
      "Tiến độ: 17/39285\n",
      "Đã crawl: https://batdongsan.com.vn/ban-can-ho-chung-cu-duong-huynh-van-nghe-phuong-sai-dong-prj-le-grand-jardin-sai-dong/chinh-chu-ban-3-ngu-85m-view-vinhomes-sieu-dep-gia-nhinh-5-ti-xiu-so-do-chinh-chu-pr42558183\n",
      "Tiến độ: 18/39285\n",
      "Đã crawl: https://batdongsan.com.vn/ban-can-ho-chung-cu-duong-thanh-thai-phuong-dich-vong-prj-khu-do-thi-moi-dich-vong/toi-ban-2-png-ngu-p-h-cong-vien-cau-giay-gia-re-lien-he-pr42325170\n",
      "Tiến độ: 19/39285\n",
      "Đã crawl: https://batdongsan.com.vn/ban-shophouse-nha-pho-thuong-mai-pho-giang-vo-phuong-giang-vo-prj-vinhomes-the-gallery/vin-dinh-danh-chu-so-huu-trung-tam-ba-dinh-199-can-tuyet-pham-pr43124121\n",
      "Tiến độ: 20/39285\n",
      "Đã crawl: https://batdongsan.com.vn/ban-can-ho-chung-cu-duong-ho-me-tri-phuong-nhan-chinh-prj-trinity-tower/-chu-tien-ban-gap-2pn-dt-68m2-tai-du-an-gia-cam-ket-re-nhat-thi-truong-pr42967873\n",
      "Tiến độ: 21/39285\n",
      "Đã crawl: https://batdongsan.com.vn/ban-can-ho-chung-cu-duong-phuc-loi-phuong-phuc-loi-prj-ecohome-phuc-loi/ban-ch-5-45-ty-108m2-3pn-dep-nhieu-tien-ich-pr41703854\n",
      "Tiến độ: 22/39285\n",
      "Đã crawl: https://batdongsan.com.vn/ban-can-ho-chung-cu-phuong-la-khe-prj-chung-cu-cao-cap-ct5-van-khe/nha-dep-chinh-chu-gui-ban-gap-ch-89m2-3n-2vs-full-do-gia-chi-4-x-ty-vao-o-luon-pr43027835\n",
      "Tiến độ: 23/39285\n",
      "Đã crawl: https://batdongsan.com.vn/ban-dat-pho-phu-luong-phuong-phu-luong-3/ban-ha-dong-lo-goc-phan-lo-via-he-o-to-kinh-doanh-50m2-x-5m-mat-tien-gia-8-ty-pr40895094\n",
      "Tiến độ: 24/39285\n",
      "Đã crawl: https://batdongsan.com.vn/ban-nha-rieng-pho-ton-duc-thang-phuong-cat-linh/can-ban-70m-x-8-tang-o-to-dung-do-cua-may-p-khau-chi-24-ty-pr43109369\n",
      "Tiến độ: 25/39285\n",
      "Đã crawl: https://batdongsan.com.vn/ban-nha-biet-thu-lien-ke-duong-huu-hung-phuong-tay-mo-prj-khu-do-thi-tay-mo/-vi-tri-dep-nhat-100m2-4-tang-mat-tien-5m-gia-chi-21-ty-nhinh-pr43123726\n",
      "Tiến độ: 26/39285\n"
     ]
    }
   ],
   "source": [
    "# Đọc danh sách link từ file batdongsan_links.json\n",
    "with open('data/batdongsan_links.json', 'r', encoding='utf-8') as f:\n",
    "    results = json.load(f)\n",
    "# Lọc link trùng theo detail_link\n",
    "unique_links = {}\n",
    "for item in results:\n",
    "    unique_links[item['detail_link']] = item\n",
    "results = list(unique_links.values())\n",
    "print(f\"Số link duy nhất: {len(results)}\")\n",
    "\n",
    "# Đa luồng crawl chi tiết\n",
    "all_data = []\n",
    "def crawl_and_collect(item):\n",
    "    url = item['detail_link']\n",
    "    try:\n",
    "        data = crawl_bds_detail_selenium(url)\n",
    "        print(f\"Đã crawl: {url}\")\n",
    "        return data\n",
    "    except Exception as e:\n",
    "        print(f\"Lỗi khi crawl {url}: {e}\")\n",
    "        return None\n",
    "\n",
    "max_workers = 8  # Tùy máy, có thể tăng lên 6-8 nếu RAM khỏe\n",
    "with ThreadPoolExecutor(max_workers=max_workers) as executor:\n",
    "    futures = [executor.submit(crawl_and_collect, item) for item in results[16000:20000]]\n",
    "    for idx, future in enumerate(as_completed(futures)):\n",
    "        data = future.result()\n",
    "        # Chỉ lưu nếu data có đủ thông tin (ví dụ có tiêu đề hoặc địa chỉ, hoặc có ít nhất 3 trường)\n",
    "        if data and len(data.keys()) > 1:\n",
    "            all_data.append(data)\n",
    "            with open('data/batdongsan_details_6.json', 'w', encoding='utf-8') as f:\n",
    "                json.dump(all_data, f, ensure_ascii=False, indent=2)\n",
    "        else:\n",
    "            print(f\"Bỏ qua trang không lấy được dữ liệu hoặc dữ liệu thiếu: {results[idx+1]['detail_link']}\")\n",
    "        print(f\"Tiến độ: {idx+1}/{len(results)}\")\n",
    "\n",
    "print(f\"Đã lưu {len(all_data)} kết quả vào data/batdongsan_details_6.json\")\n"
   ]
  },
  {
   "cell_type": "code",
   "execution_count": null,
   "id": "b0714ccb5c3051dc",
   "metadata": {},
   "outputs": [],
   "source": []
  }
 ],
 "metadata": {
  "kernelspec": {
   "display_name": "Python 3 (ipykernel)",
   "language": "python",
   "name": "python3"
  },
  "language_info": {
   "codemirror_mode": {
    "name": "ipython",
    "version": 3
   },
   "file_extension": ".py",
   "mimetype": "text/x-python",
   "name": "python",
   "nbconvert_exporter": "python",
   "pygments_lexer": "ipython3",
   "version": "3.12.9"
  }
 },
 "nbformat": 4,
 "nbformat_minor": 5
}
