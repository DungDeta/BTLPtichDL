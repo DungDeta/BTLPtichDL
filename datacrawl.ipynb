{
 "cells": [
  {
   "cell_type": "code",
   "execution_count": 1,
   "id": "initial_id",
   "metadata": {
    "ExecuteTime": {
     "end_time": "2025-06-01T05:10:54.181834Z",
     "start_time": "2025-06-01T05:10:52.245178Z"
    }
   },
   "outputs": [],
   "source": [
    "import pandas as pd\n",
    "import numpy as np\n",
    "import matplotlib.pyplot as plt\n",
    "import random\n",
    "from bs4 import BeautifulSoup\n",
    "import cloudscraper\n",
    "import json"
   ]
  },
  {
   "cell_type": "code",
   "execution_count": 2,
   "id": "6679ab6c8ddb391a",
   "metadata": {
    "ExecuteTime": {
     "end_time": "2025-05-31T11:24:27.668687Z",
     "start_time": "2025-05-31T11:24:27.661620Z"
    }
   },
   "outputs": [],
   "source": [
    "def crawl_nhatot_links(max_pages=10, output_file='nhatot_links.json'):\n",
    "    import time\n",
    "    all_links = []\n",
    "    scraper = cloudscraper.create_scraper()\n",
    "    for i in range(1, max_pages+1):\n",
    "        print(f\"Đang crawl page {i}...\")\n",
    "        URL = f\"https://www.nhatot.com/mua-ban-nha-dat-ha-noi?page={i}\"\n",
    "        success = False\n",
    "        for attempt in range(3):  # Thử lại tối đa 3 lần cho mỗi trang\n",
    "            try:\n",
    "                response = scraper.get(URL, timeout=20) # Để timeout để tránh treo\n",
    "                soup = BeautifulSoup(response.text, 'html.parser')\n",
    "                matching_divs = soup.find_all('div', attrs={\n",
    "                    'style': 'position:relative',\n",
    "                    'role': 'button',\n",
    "                    'tabindex': '0'\n",
    "                })\n",
    "                for div in matching_divs:\n",
    "                    a_tag = div.find('a', href=True)\n",
    "                    link = a_tag['href'] if a_tag else None\n",
    "                    h3_tag = div.find('h3')\n",
    "                    title = h3_tag.get_text(strip=True) if h3_tag else None\n",
    "                    if link:\n",
    "                        if link.startswith('/'):\n",
    "                            link = 'https://www.nhatot.com' + link # Tạo link đầy đủ\n",
    "                        all_links.append({'url': link, 'title': title})\n",
    "                success = True\n",
    "                break  # Nếu thành công thì thoát retry\n",
    "            except Exception as e:\n",
    "                print(f\"Lỗi page {i} lần {attempt+1}: {e}\")\n",
    "                time.sleep(3)\n",
    "        if not success:\n",
    "            print(f\"Bỏ qua page {i} do lỗi liên tục.\")\n",
    "        # time.sleep(1)  # Nghỉ giữa các page, chậm tí cho server nó thở\n",
    "    with open(output_file, 'w', encoding='utf-8') as f:\n",
    "        json.dump(all_links, f, ensure_ascii=False, indent=2)\n",
    "    print(f\"Đã lưu {len(all_links)} link vào {output_file}\")\n"
   ]
  },
  {
   "cell_type": "code",
   "execution_count": 17,
   "id": "3c5a042642f49c74",
   "metadata": {},
   "outputs": [
    {
     "name": "stdout",
     "output_type": "stream",
     "text": [
      "Đang crawl page 1...\n",
      "Đang crawl page 2...\n",
      "Đang crawl page 3...\n",
      "Đang crawl page 4...\n",
      "Đang crawl page 5...\n",
      "Đang crawl page 6...\n",
      "Đang crawl page 7...\n",
      "Đang crawl page 8...\n",
      "Đang crawl page 9...\n",
      "Đang crawl page 10...\n",
      "Đã lưu 162 link vào data/nhatot_links_test.json\n"
     ]
    }
   ],
   "source": [
    "\n",
    "crawl_nhatot_links(max_pages=10, output_file='data/nhatot_links_test.json')"
   ]
  },
  {
   "cell_type": "code",
   "execution_count": 2,
   "id": "8a56a32bfde637a9",
   "metadata": {
    "ExecuteTime": {
     "end_time": "2025-06-01T05:11:00.589076Z",
     "start_time": "2025-06-01T05:11:00.582100Z"
    }
   },
   "outputs": [],
   "source": [
    "def crawl_nhatot_details(url):\n",
    "    scraper = cloudscraper.create_scraper()\n",
    "    try:\n",
    "        response = scraper.get(url, timeout=20)\n",
    "        soup = BeautifulSoup(response.text, 'html.parser')\n",
    "        divs = soup.find_all('div', class_='a1b2hkis', limit=2)\n",
    "        result = {}\n",
    "        for idx, div in enumerate(divs):\n",
    "            if idx == 0:\n",
    "                h1 = div.find('h1')\n",
    "                if h1:\n",
    "                    result['Tiêu đề'] = h1.get_text(strip=True)\n",
    "                address_block = div.find('span', class_='bwq0cbs flex-1')\n",
    "                if address_block:\n",
    "                    result['Địa chỉ'] = address_block.get_text(strip=True)\n",
    "                date_block = div.find('span', class_='re__card-published-info-published-at')\n",
    "                if date_block:\n",
    "                    result['Ngày cập nhật'] = date_block.get_text(strip=True)\n",
    "            if idx == 1:\n",
    "                params = div.find_all('div', class_='abzctes', attrs={'data-testid': 'param-item'})\n",
    "                for param in params:\n",
    "                    label = param.find('span')\n",
    "                    value = param.find('strong')\n",
    "                    if label and value:\n",
    "                        label_text = label.get_text(strip=True)\n",
    "                        value_text = value.get_text(strip=True)\n",
    "                        result[label_text] = value_text\n",
    "                desc = div.find('p', itemprop='description')\n",
    "                if desc:\n",
    "                    result['Mô tả chi tiết'] = desc.get_text(strip=True)\n",
    "                phone_block = div.find('div', class_='InlineShowPhoneButton_linkContact__U_lEr')\n",
    "                if phone_block:\n",
    "                    result['SĐT'] = phone_block.get_text(strip=True)\n",
    "        return result\n",
    "    except Exception as e:\n",
    "        print(f\"Lỗi khi crawl {url}: {e}\")\n",
    "        return None"
   ]
  },
  {
   "cell_type": "code",
   "execution_count": 4,
   "id": "5201602dd849f1b5",
   "metadata": {
    "ExecuteTime": {
     "end_time": "2025-05-31T11:24:32.518994Z",
     "start_time": "2025-05-31T11:24:32.017375Z"
    }
   },
   "outputs": [
    {
     "data": {
      "text/plain": [
       "{'Tiêu đề': '💥 CỰC SỐC NHÀ  70m x 5 Tầng x MẶT TIỀN 6m PHỐ LỤA GIÁ CHỈ 1x.x TỶ 💥',\n",
       " 'Địa chỉ': 'Phố Lụa, Phường Vạn Phúc, Quận Hà Đông, Hà Nội',\n",
       " 'Loại hình nhà ở': 'Nhà mặt phố, mặt tiền',\n",
       " 'Diện tích đất': '70.3 m²',\n",
       " 'Diện tích sử dụng': '70.3 m²',\n",
       " 'Giá/m²': '244,67 triệu/m²',\n",
       " 'Giấy tờ pháp lý': 'Đã có sổ',\n",
       " 'Số phòng ngủ': '3 phòng'}"
      ]
     },
     "execution_count": 4,
     "metadata": {},
     "output_type": "execute_result"
    }
   ],
   "source": [
    "crawl_nhatot_details(\"https://www.nhatot.com/mua-ban-nha-dat-quan-ha-dong-ha-noi/125324875.htm\")\n"
   ]
  },
  {
   "cell_type": "code",
   "execution_count": null,
   "id": "24c501eb6aa2a2f4",
   "metadata": {
    "ExecuteTime": {
     "end_time": "2025-06-01T09:42:48.352043Z",
     "start_time": "2025-06-01T05:14:59.049037Z"
    }
   },
   "outputs": [
    {
     "name": "stdout",
     "output_type": "stream",
     "text": [
      "Đã crawl: https://www.nhatot.com/mua-ban-nha-dat-quan-bac-tu-liem-ha-noi/125025774.htm\n",
      "{'Tiêu đề': 'Lô góc, nhà mới, ngõ ô tô, full đồ ở ngay : 32m2 * 4 tầng.', 'Địa chỉ': 'phố văn hội, Phường Đức Thắng, Quận Bắc Từ Liêm, Hà Nội', 'Loại hình nhà ở': 'Nhà ngõ, hẻm', 'Diện tích đất': '32 m²', 'Giá/m²': '217,19 triệu/m²', 'Giấy tờ pháp lý': 'Đã có sổ', 'Số phòng ngủ': '4 phòng', 'Số phòng vệ sinh': '4 phòng', 'url': 'https://www.nhatot.com/mua-ban-nha-dat-quan-bac-tu-liem-ha-noi/125025774.htm', 'title': 'Lô góc, nhà mới, ngõ ô tô, full đồ ở ngay : 32m2 * 4 tầng.'}\n",
      "\n",
      "Đã crawl: https://www.nhatot.com/mua-ban-nha-dat-quan-hoang-mai-ha-noi/125025820.htm\n",
      "{'Tiêu đề': 'Ô tô tránh, Ngũ Nhạc, kinh doanh sầm uất 50m2 * 4 tầng, MT3.5 nhỉnh 7', 'Địa chỉ': 'Ngõ 130 Phố Ngũ Nhạc, Phường Thanh Trì, Quận Hoàng Mai, Hà Nội', 'Loại hình nhà ở': 'Nhà ngõ, hẻm', 'Diện tích đất': '50 m²', 'Giá/m²': '158 triệu/m²', 'Giấy tờ pháp lý': 'Đã có sổ', 'Số phòng ngủ': '3 phòng', 'url': 'https://www.nhatot.com/mua-ban-nha-dat-quan-hoang-mai-ha-noi/125025820.htm', 'title': 'Ô tô tránh, Ngũ Nhạc, kinh doanh sầm uất 50m2 * 4 tầng, MT3.5 nhỉnh 7'}\n",
      "\n",
      "Đã crawl: https://www.nhatot.com/mua-ban-nha-dat-huyen-hoai-duc-ha-noi/125025923.htm\n",
      "{'Tiêu đề': 'Bán lô góc 45m gần trường,các cấp,chợ,1KM ra VÀNH ĐAI 4,ĐI MỸ ĐÌNH 20P', 'Địa chỉ': 'Đường Tiền Lệ, Xã Tiền Yên, Huyện Hoài Đức, Hà Nội', 'Loại hình nhà ở': 'Nhà phố liền kề', 'Diện tích đất': '45 m²', 'Diện tích sử dụng': '160 m²', 'Giá/m²': '81,11 triệu/m²', 'Giấy tờ pháp lý': 'Đã có sổ', 'Số phòng ngủ': '3 phòng', 'url': 'https://www.nhatot.com/mua-ban-nha-dat-huyen-hoai-duc-ha-noi/125025923.htm', 'title': 'Bán lô góc 45m gần trường,các cấp,chợ,1KM ra VÀNH ĐAI 4,ĐI MỸ ĐÌNH 20P'}\n",
      "\n",
      "Đã crawl: https://www.nhatot.com/mua-ban-nha-dat-quan-ha-dong-ha-noi/123474226.htm#px=SR-special_display_ad-[PO-1][PL-default]\n",
      "{'Tiêu đề': 'BÁN NHÀ MỖ LAO 38M2 THANG MÁY GẦN HỒ ĐIỀU HOÀ, NGÕ THÔNG RỘNG 10.5 TỶ', 'Địa chỉ': 'Phố Mộ Lao, Phường Mộ Lao, Quận Hà Đông, Hà Nội', 'Loại hình nhà ở': 'Nhà ngõ, hẻm', 'Diện tích đất': '38 m²', 'Giá/m²': '276,32 triệu/m²', 'Giấy tờ pháp lý': 'Đã có sổ', 'Số phòng ngủ': '3 phòng', 'url': 'https://www.nhatot.com/mua-ban-nha-dat-quan-ha-dong-ha-noi/123474226.htm#px=SR-special_display_ad-[PO-1][PL-default]', 'title': 'BÁN NHÀ MỖ LAO 38M2 THANG MÁY GẦN HỒ ĐIỀU HOÀ, NGÕ THÔNG RỘNG 10.5 TỶ'}\n",
      "\n",
      "Đã crawl: https://www.nhatot.com/mua-ban-nha-dat-quan-hoang-mai-ha-noi/125026016.htm\n",
      "{'Tiêu đề': 'Bán nhà siêu xinh phố Định Công Thượng 4,8 tỷ, 25m2*4T,  Gần Ô Tô', 'Địa chỉ': 'Định Công Thượng, Phường Định Công, Quận Hoàng Mai, Hà Nội', 'Loại hình nhà ở': 'Nhà ngõ, hẻm', 'Diện tích đất': '25 m²', 'Giá/m²': '192 triệu/m²', 'Giấy tờ pháp lý': 'Đã có sổ', 'Số phòng ngủ': '3 phòng', 'Tình trạng nội thất': 'Nội thất đầy đủ', 'url': 'https://www.nhatot.com/mua-ban-nha-dat-quan-hoang-mai-ha-noi/125026016.htm', 'title': 'Bán nhà siêu xinh phố Định Công Thượng 4,8 tỷ, 25m2*4T,  Gần Ô Tô'}\n",
      "\n",
      "Đã crawl: https://www.nhatot.com/mua-ban-nha-dat-quan-hoang-mai-ha-noi/125026105.htm\n",
      "{'Tiêu đề': 'NHÀ ĐẸP – PHỐ HOÀNG MAI – 5 TẦNG 40M2 GIÁ NHỈNH 7 TỶ', 'Địa chỉ': 'Đường Hoàng Mai, Phường Hoàng Văn Thụ, Quận Hoàng Mai, Hà Nội', 'Loại hình nhà ở': 'Nhà ngõ, hẻm', 'Diện tích đất': '35 m²', 'Diện tích sử dụng': '40 m²', 'Giá/m²': '222,86 triệu/m²', 'Giấy tờ pháp lý': 'Đã có sổ', 'Số phòng ngủ': '3 phòng', 'url': 'https://www.nhatot.com/mua-ban-nha-dat-quan-hoang-mai-ha-noi/125026105.htm', 'title': 'NHÀ ĐẸP – PHỐ HOÀNG MAI – 5 TẦNG 40M2 GIÁ NHỈNH 7 TỶ'}\n",
      "\n",
      "Đã crawl: https://www.nhatot.com/mua-ban-nha-dat-quan-hai-ba-trung-ha-noi/125026219.htm\n",
      "{'Tiêu đề': 'CHÍNH CHỦ BÁN NHÀ PHỐ LÊ THANH NGHỊ GIÁ 7,5 TỶ, 5 TẦNG, 35M2, 3PN,4 VS', 'Địa chỉ': 'Phố Lê Thanh Nghị, Phường Bách Khoa, Quận Hai Bà Trưng, Hà Nội', 'Loại hình nhà ở': 'Nhà ngõ, hẻm', 'Diện tích đất': '35 m²', 'Giá/m²': '214,29 triệu/m²', 'Giấy tờ pháp lý': 'Đã có sổ', 'Số phòng ngủ': '3 phòng', 'Số phòng vệ sinh': '4 phòng', 'url': 'https://www.nhatot.com/mua-ban-nha-dat-quan-hai-ba-trung-ha-noi/125026219.htm', 'title': 'CHÍNH CHỦ BÁN NHÀ PHỐ LÊ THANH NGHỊ GIÁ 7,5 TỶ, 5 TẦNG, 35M2, 3PN,4 VS'}\n",
      "\n",
      "Đã crawl: https://www.nhatot.com/mua-ban-nha-dat-quan-hai-ba-trung-ha-noi/122316595.htm\n",
      "{'Tiêu đề': 'Bán nhà Đại La. Lô Góc - Xây mới, thông sàn, thang máy, sau MP.', 'Địa chỉ': 'Ngõ Tân Lạc, Phường Trương Định, Quận Hai Bà Trưng, Hà Nội', 'Loại hình nhà ở': 'Nhà ngõ, hẻm', 'Diện tích đất': '36 m²', 'Diện tích sử dụng': '39 m²', 'Giá/m²': '208,33 triệu/m²', 'Giấy tờ pháp lý': 'Đã có sổ', 'Số phòng ngủ': '3 phòng', 'url': 'https://www.nhatot.com/mua-ban-nha-dat-quan-hai-ba-trung-ha-noi/122316595.htm', 'title': 'Bán nhà Đại La. Lô Góc - Xây mới, thông sàn, thang máy, sau MP.'}\n",
      "\n",
      "Đã crawl: https://www.nhatot.com/mua-ban-nha-dat-quan-hoang-mai-ha-noi/122794483.htm\n",
      "{'Tiêu đề': 'CỰC HIẾM BÁN NHÀ GẦN TIME CTY ,GẦN 2 TRƯỜNG ĐẠI HỌC ,OTO ĐỖ CỬA', 'Địa chỉ': 'Vĩnh Tuy, Phường Vĩnh Hưng, Quận Hoàng Mai, Hà Nội', 'Loại hình nhà ở': 'Nhà mặt phố, mặt tiền', 'Diện tích đất': '32 m²', 'Giá/m²': '112,50 triệu/m²', 'Giấy tờ pháp lý': 'Đang chờ sổ', 'Số phòng ngủ': '3 phòng', 'Đặc điểm nhà/đất': 'Hẻm xe hơi', 'url': 'https://www.nhatot.com/mua-ban-nha-dat-quan-hoang-mai-ha-noi/122794483.htm', 'title': 'CỰC HIẾM BÁN NHÀ GẦN TIME CTY ,GẦN 2 TRƯỜNG ĐẠI HỌC ,OTO ĐỖ CỬA'}\n",
      "\n",
      "Đã crawl: https://www.nhatot.com/mua-ban-nha-dat-quan-ha-dong-ha-noi/123089398.htm#px=SR-special_display_ad-[PO-1][PL-default]\n",
      "{'Tiêu đề': 'BÁN NHÀ TRẦN PHÚ, GẦN GA TÀU, Ô TÔ ĐỖ CỬA, 50M2 GIÁ 13.9 TỶ', 'Địa chỉ': 'Đường Trần Phú, Phường Mộ Lao, Quận Hà Đông, Hà Nội', 'Loại hình nhà ở': 'Nhà ngõ, hẻm', 'Diện tích đất': '50 m²', 'Giá/m²': '278 triệu/m²', 'Giấy tờ pháp lý': 'Đã có sổ', 'Số phòng ngủ': '4 phòng', 'Đặc điểm nhà/đất': 'Hẻm xe hơi', 'url': 'https://www.nhatot.com/mua-ban-nha-dat-quan-ha-dong-ha-noi/123089398.htm#px=SR-special_display_ad-[PO-1][PL-default]', 'title': 'BÁN NHÀ TRẦN PHÚ, GẦN GA TÀU, Ô TÔ ĐỖ CỬA, 50M2 GIÁ 13.9 TỶ'}\n",
      "\n",
      "Đã crawl: https://www.nhatot.com/mua-ban-nha-dat-quan-long-bien-ha-noi/125026316.htm\n",
      "{'Tiêu đề': 'Bán nhà Phố Đức Giang - 95m2 - Mới 100% Nội thất cao cấp - Vỉa hè Ô to', 'Địa chỉ': 'Phố Đức Giang, Phường Đức Giang, Quận Long Biên, Hà Nội', 'Loại hình nhà ở': 'Nhà biệt thự', 'Diện tích đất': '95 m²', 'Diện tích sử dụng': '100 m²', 'Giá/m²': '173,68 triệu/m²', 'Giấy tờ pháp lý': 'Đã có sổ', 'Số phòng ngủ': '5 phòng', 'url': 'https://www.nhatot.com/mua-ban-nha-dat-quan-long-bien-ha-noi/125026316.htm', 'title': 'Bán nhà Phố Đức Giang - 95m2 - Mới 100% Nội thất cao cấp - Vỉa hè Ô to'}\n",
      "\n",
      "Đã crawl: https://www.nhatot.com/mua-ban-nha-dat-quan-ha-dong-ha-noi/123279054.htm#px=SR-special_display_ad-[PO-1][PL-default]\n",
      "{'Tiêu đề': 'BÁN NHÀ TRẦN PHÚ 40M - Ô TÔ TRÁNH - MẶT PHỐ KINH DOANH 15.5 TỶ', 'Địa chỉ': 'Phố Mộ Lao, Phường Mộ Lao, Quận Hà Đông, Hà Nội', 'Loại hình nhà ở': 'Nhà ngõ, hẻm', 'Diện tích đất': '40 m²', 'Giá/m²': '387,50 triệu/m²', 'Giấy tờ pháp lý': 'Đã có sổ', 'Số phòng ngủ': '7 phòng', 'Đặc điểm nhà/đất': 'Hẻm xe hơi', 'url': 'https://www.nhatot.com/mua-ban-nha-dat-quan-ha-dong-ha-noi/123279054.htm#px=SR-special_display_ad-[PO-1][PL-default]', 'title': 'BÁN NHÀ TRẦN PHÚ 40M - Ô TÔ TRÁNH - MẶT PHỐ KINH DOANH 15.5 TỶ'}\n",
      "\n",
      "Đã crawl: https://www.nhatot.com/mua-ban-nha-dat-quan-hoang-mai-ha-noi/125026492.htm\n",
      "{'Tiêu đề': 'VĨNH HƯNG - Ô TÔ ĐỖ CỬA - KINH DOANH - 37M2 - 4 TẦNG.', 'Địa chỉ': 'Phố Vĩnh Hưng, Phường Vĩnh Hưng, Quận Hoàng Mai, Hà Nội', 'Loại hình nhà ở': 'Nhà ngõ, hẻm', 'Diện tích đất': '37 m²', 'Giá/m²': '227,03 triệu/m²', 'Giấy tờ pháp lý': 'Đã có sổ', 'Số phòng ngủ': '4 phòng', 'url': 'https://www.nhatot.com/mua-ban-nha-dat-quan-hoang-mai-ha-noi/125026492.htm', 'title': 'VĨNH HƯNG - Ô TÔ ĐỖ CỬA - KINH DOANH - 37M2 - 4 TẦNG.'}\n",
      "\n",
      "Đã crawl: https://www.nhatot.com/mua-ban-nha-dat-quan-hoang-mai-ha-noi/125026548.htm\n",
      "{'Tiêu đề': 'VĨNH HƯNG - DƯƠNG VĂN BÉ - 30M2 - 5 TẦNG XÂY MỚI - 2 THOÁNG TRƯỚC SAU.', 'Địa chỉ': 'Phố Vĩnh Hưng, Phường Vĩnh Hưng, Quận Hoàng Mai, Hà Nội', 'Loại hình nhà ở': 'Nhà ngõ, hẻm', 'Diện tích đất': '30 m²', 'Giá/m²': '226,67 triệu/m²', 'Giấy tờ pháp lý': 'Đã có sổ', 'Số phòng ngủ': '3 phòng', 'url': 'https://www.nhatot.com/mua-ban-nha-dat-quan-hoang-mai-ha-noi/125026548.htm', 'title': 'VĨNH HƯNG - DƯƠNG VĂN BÉ - 30M2 - 5 TẦNG XÂY MỚI - 2 THOÁNG TRƯỚC SAU.'}\n",
      "\n",
      "Đã crawl: https://www.nhatot.com/mua-ban-nha-dat-quan-hoang-mai-ha-noi/125026893.htm\n",
      "{'Tiêu đề': 'MỚI CÓNG LÔ GÓC', 'Địa chỉ': 'Phố Vĩnh Hưng, Phường Vĩnh Hưng, Quận Hoàng Mai, Hà Nội', 'Loại hình nhà ở': 'Nhà ngõ, hẻm', 'Diện tích đất': '40 m²', 'Diện tích sử dụng': '40 m²', 'Giá/m²': '172,50 triệu/m²', 'Giấy tờ pháp lý': 'Đã có sổ', 'Số phòng ngủ': '4 phòng', 'url': 'https://www.nhatot.com/mua-ban-nha-dat-quan-hoang-mai-ha-noi/125026893.htm', 'title': 'MỚI CÓNG LÔ GÓC'}\n",
      "\n",
      "Lỗi khi crawl https://www.nhatot.com/mua-ban-nha-dat-quan-hai-ba-trung-ha-noi/125026897.htm#px=SR-special_display_ad-[PO-1][PL-default]: HTTPSConnectionPool(host='www.nhatot.com', port=443): Read timed out. (read timeout=20)\n",
      "Đã crawl: https://www.nhatot.com/mua-ban-nha-dat-quan-hai-ba-trung-ha-noi/125026897.htm#px=SR-special_display_ad-[PO-1][PL-default]\n",
      "{'Tiêu đề': 'SIÊU PHẨM, THANH NHÀN HAI BÀ TRƯNG HÀ NỘI, GIÁ 7,95 TỶ, 35M X5T XMT5 M', 'Địa chỉ': 'Phố Thanh Nhàn, Phường Thanh Nhàn, Quận Hai Bà Trưng, Hà Nội', 'Loại hình nhà ở': 'Nhà mặt phố, mặt tiền', 'Diện tích đất': '35 m²', 'Diện tích sử dụng': '35 m²', 'Giá/m²': '227,14 triệu/m²', 'Giấy tờ pháp lý': 'Đã có sổ', 'Số phòng ngủ': '4 phòng', 'url': 'https://www.nhatot.com/mua-ban-nha-dat-quan-hai-ba-trung-ha-noi/125026897.htm#px=SR-special_display_ad-[PO-1][PL-default]', 'title': 'SIÊU PHẨM, THANH NHÀN HAI BÀ TRƯNG HÀ NỘI, GIÁ 7,95 TỶ, 35M X5T XMT5 M'}\n",
      "\n",
      "Đã crawl: https://www.nhatot.com/mua-ban-nha-dat-quan-long-bien-ha-noi/125026902.htm\n",
      "{'Tiêu đề': 'Bán nhà Hiếm Ngọc Thụy 45m2 Mới 4 PN Rộng, Ô tô đỗ gần, 7 tỷ 400 tr', 'Địa chỉ': 'Đường Ngọc Thụy, Phường Ngọc Thụy, Quận Long Biên, Hà Nội', 'Loại hình nhà ở': 'Nhà ngõ, hẻm', 'Diện tích đất': '45 m²', 'Diện tích sử dụng': '45 m²', 'Giá/m²': '164,44 triệu/m²', 'Giấy tờ pháp lý': 'Đã có sổ', 'Số phòng ngủ': '4 phòng', 'url': 'https://www.nhatot.com/mua-ban-nha-dat-quan-long-bien-ha-noi/125026902.htm', 'title': 'Bán nhà Hiếm Ngọc Thụy 45m2 Mới 4 PN Rộng, Ô tô đỗ gần, 7 tỷ 400 tr'}\n",
      "\n",
      "Đã crawl: https://www.nhatot.com/mua-ban-nha-dat-quan-nam-tu-liem-ha-noi/121449436.htm#px=SR-special_display_ad-[PO-1][PL-default]\n",
      "{'Tiêu đề': 'TRUNG TÂM MIÊU NHA TÂY MỖ 43M2-NHÀ DÂN XÂY ĐƠN LẬP 5 TẦNG-CHỈ HƠN 5 TỶ', 'Địa chỉ': 'Phố Do Nha, Phường Tây Mỗ, Quận Nam Từ Liêm, Hà Nội', 'Loại hình nhà ở': 'Nhà ngõ, hẻm', 'Diện tích đất': '43 m²', 'Diện tích sử dụng': '43 m²', 'Giá/m²': '120,93 triệu/m²', 'Giấy tờ pháp lý': 'Đã có sổ', 'Số phòng ngủ': '3 phòng', 'url': 'https://www.nhatot.com/mua-ban-nha-dat-quan-nam-tu-liem-ha-noi/121449436.htm#px=SR-special_display_ad-[PO-1][PL-default]', 'title': 'TRUNG TÂM MIÊU NHA TÂY MỖ 43M2-NHÀ DÂN XÂY ĐƠN LẬP 5 TẦNG-CHỈ HƠN 5 TỶ'}\n",
      "\n",
      "Đã crawl: https://www.nhatot.com/mua-ban-nha-dat-quan-bac-tu-liem-ha-noi/122835792.htm\n",
      "{'Tiêu đề': 'Xuân Đỉnh, 1 nhà ra oto tránh, dân xây, ở luôn, ở yên tĩnh 37.9m*5T', 'Địa chỉ': 'Đường Xuân Đỉnh, Phường Xuân Đỉnh, Quận Bắc Từ Liêm, Hà Nội', 'Loại hình nhà ở': 'Nhà ngõ, hẻm', 'Diện tích đất': '37.9 m²', 'Giá/m²': '162,27 triệu/m²', 'Giấy tờ pháp lý': 'Đã có sổ', 'Số phòng ngủ': '3 phòng', 'Tình trạng nội thất': 'Nội thất đầy đủ', 'url': 'https://www.nhatot.com/mua-ban-nha-dat-quan-bac-tu-liem-ha-noi/122835792.htm', 'title': 'Xuân Đỉnh, 1 nhà ra oto tránh, dân xây, ở luôn, ở yên tĩnh 37.9m*5T'}\n",
      "\n",
      "Đã crawl: https://www.nhatot.com/mua-ban-nha-dat-quan-bac-tu-liem-ha-noi/123670820.htm\n",
      "{'Tiêu đề': '205 Xuân Đỉnh, oto đỗ, xây mới cứng, ở luôn full nội thất 39m*5T', 'Địa chỉ': 'Đường Xuân Đỉnh, Phường Xuân Đỉnh, Quận Bắc Từ Liêm, Hà Nội', 'Loại hình nhà ở': 'Nhà ngõ, hẻm', 'Diện tích đất': '39 m²', 'Giá/m²': '153,85 triệu/m²', 'Giấy tờ pháp lý': 'Đã có sổ', 'Số phòng ngủ': '3 phòng', 'Tình trạng nội thất': 'Nội thất đầy đủ', 'url': 'https://www.nhatot.com/mua-ban-nha-dat-quan-bac-tu-liem-ha-noi/123670820.htm', 'title': '205 Xuân Đỉnh, oto đỗ, xây mới cứng, ở luôn full nội thất 39m*5T'}\n",
      "\n",
      "Đã crawl: https://www.nhatot.com/mua-ban-nha-dat-quan-cau-giay-ha-noi/124624949.htm\n",
      "{'Tiêu đề': 'TT Cầu Giấy, ngõ nông, thoáng, xây mới full nội thất, an ninh tốt', 'Địa chỉ': 'Phố Đông Quan, Phường Nghĩa Đô, Quận Cầu Giấy, Hà Nội', 'Loại hình nhà ở': 'Nhà ngõ, hẻm', 'Diện tích đất': '34.7 m²', 'Giá/m²': '172,91 triệu/m²', 'Giấy tờ pháp lý': 'Đang chờ sổ', 'Số phòng ngủ': '3 phòng', 'Tình trạng nội thất': 'Nội thất đầy đủ', 'url': 'https://www.nhatot.com/mua-ban-nha-dat-quan-cau-giay-ha-noi/124624949.htm', 'title': 'TT Cầu Giấy, ngõ nông, thoáng, xây mới full nội thất, an ninh tốt'}\n",
      "\n",
      "Đã crawl: https://www.nhatot.com/mua-ban-nha-dat-quan-cau-giay-ha-noi/124220401.htm\n",
      "{'Tiêu đề': 'TT Cầu Giấy, 3 gác phi, ngõ nông, trước nhà rộng, dân xây 38.9m*4T', 'Địa chỉ': 'Đường Nguyễn Khang, Phường Yên Hoà, Quận Cầu Giấy, Hà Nội', 'Loại hình nhà ở': 'Nhà ngõ, hẻm', 'Diện tích đất': '37.8 m²', 'Giá/m²': '171,96 triệu/m²', 'Giấy tờ pháp lý': 'Đã có sổ', 'Số phòng ngủ': '4 phòng', 'Tình trạng nội thất': 'Nội thất đầy đủ', 'url': 'https://www.nhatot.com/mua-ban-nha-dat-quan-cau-giay-ha-noi/124220401.htm', 'title': 'TT Cầu Giấy, 3 gác phi, ngõ nông, trước nhà rộng, dân xây 38.9m*4T'}\n",
      "\n",
      "Đã crawl: https://www.nhatot.com/mua-ban-nha-dat-quan-cau-giay-ha-noi/123610565.htm\n",
      "{'Tiêu đề': 'Hồ Tùng Mậu, ngõ 3 gác tránh, trước nhà 3 m, gần phố, dân xây 38m*5T', 'Địa chỉ': 'Đường Hồ Tùng Mậu, Phường Mai Dịch, Quận Cầu Giấy, Hà Nội', 'Loại hình nhà ở': 'Nhà ngõ, hẻm', 'Diện tích đất': '38.6 m²', 'Giá/m²': '161,92 triệu/m²', 'Giấy tờ pháp lý': 'Đã có sổ', 'Số phòng ngủ': '3 phòng', 'Tình trạng nội thất': 'Nội thất đầy đủ', 'url': 'https://www.nhatot.com/mua-ban-nha-dat-quan-cau-giay-ha-noi/123610565.htm', 'title': 'Hồ Tùng Mậu, ngõ 3 gác tránh, trước nhà 3 m, gần phố, dân xây 38m*5T'}\n",
      "\n",
      "Đã crawl: https://www.nhatot.com/mua-ban-nha-dat-quan-thanh-xuan-ha-noi/125027332.htm#px=SR-special_display_ad-[PO-1][PL-default]\n",
      "{'Tiêu đề': 'BÁN NHÀ VƯƠNG THỪA VŨ THANH XUÂN HÀ NỘI,16,5TỶ, 48M X 2,5T X MT 5, 5M', 'Địa chỉ': 'Phố Vương Thừa Vũ, Phường Khương Trung, Quận Thanh Xuân, Hà Nội', 'Loại hình nhà ở': 'Nhà mặt phố, mặt tiền', 'Diện tích đất': '48 m²', 'Diện tích sử dụng': '48 m²', 'Giá/m²': '343,75 triệu/m²', 'Giấy tờ pháp lý': 'Đã có sổ', 'Số phòng ngủ': '2 phòng', 'url': 'https://www.nhatot.com/mua-ban-nha-dat-quan-thanh-xuan-ha-noi/125027332.htm#px=SR-special_display_ad-[PO-1][PL-default]', 'title': 'BÁN NHÀ VƯƠNG THỪA VŨ THANH XUÂN HÀ NỘI,16,5TỶ, 48M X 2,5T X MT 5, 5M'}\n",
      "\n",
      "Đã crawl: https://www.nhatot.com/mua-ban-nha-dat-quan-bac-tu-liem-ha-noi/123028415.htm\n",
      "{'Tiêu đề': 'Phạm Văn Đồng, căn góc, ngõ siêu nông, thẳng tắp, mới koong, 42.6*5T', 'Địa chỉ': 'Đường Phạm Văn Đồng, Phường Xuân Đỉnh, Quận Bắc Từ Liêm, Hà Nội', 'Loại hình nhà ở': 'Nhà ngõ, hẻm', 'Diện tích đất': '42.6 m²', 'Giá/m²': '164,32 triệu/m²', 'Giấy tờ pháp lý': 'Đã có sổ', 'Số phòng ngủ': '6 phòng', 'Tình trạng nội thất': 'Nội thất đầy đủ', 'url': 'https://www.nhatot.com/mua-ban-nha-dat-quan-bac-tu-liem-ha-noi/123028415.htm', 'title': 'Phạm Văn Đồng, căn góc, ngõ siêu nông, thẳng tắp, mới koong, 42.6*5T'}\n",
      "\n",
      "Đã crawl: https://www.nhatot.com/mua-ban-nha-dat-quan-cau-giay-ha-noi/125027345.htm\n",
      "{'Tiêu đề': 'TT CẦU GIẤY - CHDV 16 PKK 6 TẦNG - LÔ GÓC 3 THOÁNG - Ô TÔ 5 TẠ TRÁNH', 'Địa chỉ': 'Phố Trần Thái Tông, Phường Dịch Vọng, Quận Cầu Giấy, Hà Nội', 'Loại hình nhà ở': 'Nhà ngõ, hẻm', 'Diện tích đất': '65 m²', 'Giá/m²': '153,85 triệu/m²', 'Giấy tờ pháp lý': 'Đã có sổ', 'Số phòng ngủ': 'nhiều hơn 10 phòng', 'Tình trạng nội thất': 'Nội thất đầy đủ', 'url': 'https://www.nhatot.com/mua-ban-nha-dat-quan-cau-giay-ha-noi/125027345.htm', 'title': 'TT CẦU GIẤY - CHDV 16 PKK 6 TẦNG - LÔ GÓC 3 THOÁNG - Ô TÔ 5 TẠ TRÁNH'}\n",
      "\n",
      "Đã crawl: https://www.nhatot.com/mua-ban-nha-dat-quan-cau-giay-ha-noi/124341923.htm\n",
      "{'Tiêu đề': 'TT Cầu Giấy, ngõ nông 3 gác tránh, dân xây, thoáng sáng, 45*4T', 'Địa chỉ': 'Đường Cầu Giấy, Phường Quan Hoa, Quận Cầu Giấy, Hà Nội', 'Loại hình nhà ở': 'Nhà ngõ, hẻm', 'Diện tích đất': '45 m²', 'Giá/m²': '155,56 triệu/m²', 'Giấy tờ pháp lý': 'Đã có sổ', 'Số phòng ngủ': '4 phòng', 'Tình trạng nội thất': 'Nội thất đầy đủ', 'url': 'https://www.nhatot.com/mua-ban-nha-dat-quan-cau-giay-ha-noi/124341923.htm', 'title': 'TT Cầu Giấy, ngõ nông 3 gác tránh, dân xây, thoáng sáng, 45*4T'}\n",
      "\n",
      "Đã crawl: https://www.nhatot.com/mua-ban-nha-dat-quan-bac-tu-liem-ha-noi/124343377.htm\n",
      "{'Tiêu đề': '205 Xuân Đỉnh - Ngoại Giao Đoàn, fortuner đổ cổng, xây mới, 42.8m*5T', 'Địa chỉ': 'Đường Xuân Đỉnh, Phường Xuân Đỉnh, Quận Bắc Từ Liêm, Hà Nội', 'Loại hình nhà ở': 'Nhà ngõ, hẻm', 'Diện tích đất': '42.8 m²', 'Giá/m²': '163,55 triệu/m²', 'Giấy tờ pháp lý': 'Đã có sổ', 'Số phòng ngủ': '3 phòng', 'Tình trạng nội thất': 'Nội thất đầy đủ', 'url': 'https://www.nhatot.com/mua-ban-nha-dat-quan-bac-tu-liem-ha-noi/124343377.htm', 'title': '205 Xuân Đỉnh - Ngoại Giao Đoàn, fortuner đổ cổng, xây mới, 42.8m*5T'}\n",
      "\n",
      "Đã crawl: https://www.nhatot.com/mua-ban-nha-dat-quan-cau-giay-ha-noi/123126294.htm\n",
      "{'Tiêu đề': 'Phạm Văn Đồng, ngõ 3 gác, siêu nông, thẳng tắp, mặt tiền rộng,36.7m*5T', 'Địa chỉ': 'Đường Phạm Văn Đồng, Phường Mai Dịch, Quận Cầu Giấy, Hà Nội', 'Loại hình nhà ở': 'Nhà ngõ, hẻm', 'Diện tích đất': '36.7 m²', 'Giá/m²': '158,04 triệu/m²', 'Giấy tờ pháp lý': 'Đã có sổ', 'Số phòng ngủ': '3 phòng', 'url': 'https://www.nhatot.com/mua-ban-nha-dat-quan-cau-giay-ha-noi/123126294.htm', 'title': 'Phạm Văn Đồng, ngõ 3 gác, siêu nông, thẳng tắp, mặt tiền rộng,36.7m*5T'}\n",
      "\n",
      "Đã crawl: https://www.nhatot.com/mua-ban-nha-dat-quan-hoang-mai-ha-noi/125027410.htm\n",
      "{'Tiêu đề': 'NHÀ HOANG MAI- MỚI - 31M - 5 TẦNG -4 NGỦ', 'Địa chỉ': '28, Đường Hoàng Mai, Phường Hoàng Văn Thụ, Quận Hoàng Mai, Hà Nội', 'Loại hình nhà ở': 'Nhà phố liền kề', 'Diện tích đất': '31 m²', 'Diện tích sử dụng': '31 m²', 'Giá/m²': '206,45 triệu/m²', 'Giấy tờ pháp lý': 'Đã có sổ', 'Số phòng ngủ': '4 phòng', 'url': 'https://www.nhatot.com/mua-ban-nha-dat-quan-hoang-mai-ha-noi/125027410.htm', 'title': 'NHÀ HOANG MAI- MỚI - 31M - 5 TẦNG -4 NGỦ'}\n",
      "\n",
      "Đã crawl: https://www.nhatot.com/mua-ban-nha-dat-quan-hoang-mai-ha-noi/125027423.htm#px=SR-special_display_ad-[PO-1][PL-default]\n",
      "{'Tiêu đề': 'SIÊU PHẨM NHÀ TT TẦNG 1 - Ô TÔ ĐỖ - KINH DOANH 30m NHỈNH TỶ.', 'Địa chỉ': 'Phố Tân Mai, Phường Tân Mai, Quận Hoàng Mai, Hà Nội', 'Loại hình nhà ở': 'Nhà ngõ, hẻm', 'Diện tích đất': '30 m²', 'Diện tích sử dụng': '30 m²', 'Giá/m²': '61,67 triệu/m²', 'Giấy tờ pháp lý': 'Sổ chung / công chứng vi bằng', 'Số phòng ngủ': '2 phòng', 'url': 'https://www.nhatot.com/mua-ban-nha-dat-quan-hoang-mai-ha-noi/125027423.htm#px=SR-special_display_ad-[PO-1][PL-default]', 'title': 'SIÊU PHẨM NHÀ TT TẦNG 1 - Ô TÔ ĐỖ - KINH DOANH 30m NHỈNH TỶ.'}\n",
      "\n",
      "Đã crawl: https://www.nhatot.com/mua-ban-nha-dat-quan-ha-dong-ha-noi/124809279.htm\n",
      "{'Tiêu đề': 'Siêu phẩm đầu tư, Nhà phân lô Tố Hữu 60m nhỉnh 7 tỷ cực HIẾM', 'Địa chỉ': '38, Đường Tố Hữu, Phường Vạn Phúc, Quận Hà Đông, Hà Nội', 'Loại hình nhà ở': 'Nhà mặt phố, mặt tiền', 'Diện tích đất': '60 m²', 'Diện tích sử dụng': '60 m²', 'Giá/m²': '125 triệu/m²', 'Giấy tờ pháp lý': 'Sổ chung / công chứng vi bằng', 'Số phòng ngủ': '7 phòng', 'url': 'https://www.nhatot.com/mua-ban-nha-dat-quan-ha-dong-ha-noi/124809279.htm', 'title': 'Siêu phẩm đầu tư, Nhà phân lô Tố Hữu 60m nhỉnh 7 tỷ cực HIẾM'}\n",
      "\n",
      "Đã crawl: https://www.nhatot.com/mua-ban-nha-dat-quan-hai-ba-trung-ha-noi/124663077.htm\n",
      "{'Tiêu đề': 'Cần bán căn CCMN. 66m2, 6 tầng, 14P khép kín. Dòng tiền 6%/nam', 'Địa chỉ': 'Ngõ Tự Do, Phường Đồng Tâm, Quận Hai Bà Trưng, Hà Nội', 'Loại hình nhà ở': 'Nhà ngõ, hẻm', 'Diện tích đất': '66 m²', 'Diện tích sử dụng': '66 m²', 'Giá/m²': '174,24 triệu/m²', 'Giấy tờ pháp lý': 'Đã có sổ', 'Số phòng ngủ': 'nhiều hơn 10 phòng', 'url': 'https://www.nhatot.com/mua-ban-nha-dat-quan-hai-ba-trung-ha-noi/124663077.htm', 'title': 'Cần bán căn CCMN. 66m2, 6 tầng, 14P khép kín. Dòng tiền 6%/nam'}\n",
      "\n",
      "Đã crawl: https://www.nhatot.com/mua-ban-nha-dat-quan-dong-da-ha-noi/125027692.htm#px=SR-special_display_ad-[PO-1][PL-default]\n",
      "{'Tiêu đề': 'BÁN NHÀ ĐỐNG ĐA: 53M, 4 TẦNG, MẶT TIỀN 3,5M GIÁ CHỈ 15,5 TỶ.', 'Địa chỉ': 'Ngõ Thịnh Quang, Phường Thịnh Quang, Quận Đống Đa, Hà Nội', 'Loại hình nhà ở': 'Nhà ngõ, hẻm', 'Diện tích đất': '53 m²', 'Giá/m²': '292,45 triệu/m²', 'Giấy tờ pháp lý': 'Đã có sổ', 'Số phòng ngủ': '4 phòng', 'Số phòng vệ sinh': '3 phòng', 'url': 'https://www.nhatot.com/mua-ban-nha-dat-quan-dong-da-ha-noi/125027692.htm#px=SR-special_display_ad-[PO-1][PL-default]', 'title': 'BÁN NHÀ ĐỐNG ĐA: 53M, 4 TẦNG, MẶT TIỀN 3,5M GIÁ CHỈ 15,5 TỶ.'}\n",
      "\n",
      "Đã crawl: https://www.nhatot.com/mua-ban-nha-dat-quan-ba-dinh-ha-noi/125027805.htm\n",
      "{'Tiêu đề': 'Đội Cấn phân lô quân đội ngõ thông 2 thoáng oto đỗ cửa', 'Địa chỉ': 'Phố Đội Cấn, Phường Đội Cấn, Quận Ba Đình, Hà Nội', 'Loại hình nhà ở': 'Nhà ngõ, hẻm', 'Diện tích đất': '66 m²', 'Giá/m²': '272,73 triệu/m²', 'Giấy tờ pháp lý': 'Đã có sổ', 'Số phòng ngủ': '6 phòng', 'url': 'https://www.nhatot.com/mua-ban-nha-dat-quan-ba-dinh-ha-noi/125027805.htm', 'title': 'Đội Cấn phân lô quân đội ngõ thông 2 thoáng oto đỗ cửa'}\n",
      "\n",
      "Đã crawl: https://www.nhatot.com/mua-ban-nha-dat-quan-ha-dong-ha-noi/125027824.htm\n",
      "{'Tiêu đề': 'LÔ GÓC NỞ HẬU, 5T, THANG MÁY, 7 CHỖ VÀO NHÀ, 15M RA ĐƯỜNG 2 Ô TÔ TRÁNH', 'Địa chỉ': 'Phố Phan Đình Giót, Phường La Khê, Quận Hà Đông, Hà Nội', 'Loại hình nhà ở': 'Nhà ngõ, hẻm', 'Diện tích đất': '50 m²', 'Diện tích sử dụng': '50 m²', 'Giá/m²': '224 triệu/m²', 'Giấy tờ pháp lý': 'Đã có sổ', 'Số phòng ngủ': '5 phòng', 'url': 'https://www.nhatot.com/mua-ban-nha-dat-quan-ha-dong-ha-noi/125027824.htm', 'title': 'LÔ GÓC NỞ HẬU, 5T, THANG MÁY, 7 CHỖ VÀO NHÀ, 15M RA ĐƯỜNG 2 Ô TÔ TRÁNH'}\n",
      "\n",
      "Lỗi khi crawl https://www.nhatot.com/mua-ban-nha-dat-quan-cau-giay-ha-noi/125027876.htm#px=SR-special_display_ad-[PO-1][PL-default]: ('Connection aborted.', ConnectionResetError(10054, 'An existing connection was forcibly closed by the remote host', None, 10054, None))\n",
      "Đã crawl: https://www.nhatot.com/mua-ban-nha-dat-quan-cau-giay-ha-noi/125027876.htm#px=SR-special_display_ad-[PO-1][PL-default]\n",
      "{'Tiêu đề': 'BÁN NHÀ PHẠM THẬN DUẬT, CẦU GIẤY 47M, 5 TẦNG CHỈ 15 TỶ. VỊ TRÍ ĐẮC ĐỊA', 'Địa chỉ': 'Phố Phạm Thận Duật, Phường Mai Dịch, Quận Cầu Giấy, Hà Nội', 'Loại hình nhà ở': 'Nhà ngõ, hẻm', 'Diện tích đất': '47 m²', 'Giá/m²': '329,79 triệu/m²', 'Giấy tờ pháp lý': 'Đã có sổ', 'Số phòng ngủ': '5 phòng', 'Số phòng vệ sinh': '4 phòng', 'url': 'https://www.nhatot.com/mua-ban-nha-dat-quan-cau-giay-ha-noi/125027876.htm#px=SR-special_display_ad-[PO-1][PL-default]', 'title': 'BÁN NHÀ PHẠM THẬN DUẬT, CẦU GIẤY 47M, 5 TẦNG CHỈ 15 TỶ. VỊ TRÍ ĐẮC ĐỊA'}\n",
      "\n",
      "Lỗi khi crawl https://www.nhatot.com/mua-ban-nha-dat-quan-tay-ho-ha-noi/122105377.htm#px=SR-special_display_ad-[PO-1][PL-default]: ('Connection aborted.', ConnectionResetError(10054, 'An existing connection was forcibly closed by the remote host', None, 10054, None))\n"
     ]
    }
   ],
   "source": [
    "import time\n",
    "results = []\n",
    "with open('data/nhatot_links.json', 'r', encoding='utf-8') as f:\n",
    "    links = json.load(f)\n",
    "for item in links[::-1]:\n",
    "    url = item['url']\n",
    "    title = item.get('title')\n",
    "    detail = None\n",
    "    for attempt in range(3):\n",
    "        detail = crawl_nhatot_details(url)\n",
    "        if detail and len(detail.keys()) >= 3:\n",
    "            break\n",
    "        time.sleep(random.uniform(1, 5))\n",
    "    if detail:\n",
    "        detail['url'] = url\n",
    "        detail['title'] = title\n",
    "        print(f\"Đã crawl: {url}\\n{detail}\\n\")\n",
    "        results.append(detail)\n",
    "        # Lưu ngay sau mỗi lần crawl thành công\n",
    "        with open('data/nhatot_details_2.json', 'w', encoding='utf-8') as f:\n",
    "            json.dump(results, f, ensure_ascii=False, indent=2)\n",
    "    else:\n",
    "        print(f\"Không crawl được: {url}\")\n",
    "print(f\"Đã lưu {len(results)} kết quả vào data/nhatot_details_2.json\")"
   ]
  },
  {
   "cell_type": "code",
   "execution_count": null,
   "id": "4af279a4462daf8d",
   "metadata": {},
   "outputs": [],
   "source": []
  }
 ],
 "metadata": {
  "kernelspec": {
   "display_name": "Python 3 (ipykernel)",
   "language": "python",
   "name": "python3"
  },
  "language_info": {
   "codemirror_mode": {
    "name": "ipython",
    "version": 3
   },
   "file_extension": ".py",
   "mimetype": "text/x-python",
   "name": "python",
   "nbconvert_exporter": "python",
   "pygments_lexer": "ipython3",
   "version": "3.12.9"
  }
 },
 "nbformat": 4,
 "nbformat_minor": 5
}
